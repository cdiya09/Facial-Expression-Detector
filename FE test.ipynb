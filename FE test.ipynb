{
 "cells": [
  {
   "cell_type": "code",
   "execution_count": 1,
   "id": "0d073bf1-79c0-4879-beab-82d02049f4b5",
   "metadata": {},
   "outputs": [
    {
     "name": "stdout",
     "output_type": "stream",
     "text": [
      "WARNING:tensorflow:From C:\\Users\\DarkM\\miniconda3\\envs\\basic_01\\Lib\\site-packages\\keras\\src\\losses.py:2976: The name tf.losses.sparse_softmax_cross_entropy is deprecated. Please use tf.compat.v1.losses.sparse_softmax_cross_entropy instead.\n",
      "\n"
     ]
    }
   ],
   "source": [
    "from keras.models import load_model\n",
    "from keras.preprocessing import image\n",
    "import numpy as np\n",
    "import matplotlib.pyplot as plt"
   ]
  },
  {
   "cell_type": "code",
   "execution_count": 2,
   "id": "45ed97f0-92f5-489e-8010-004964996cee",
   "metadata": {},
   "outputs": [],
   "source": [
    "def preprocess_image(image_path, target_size):\n",
    "    img = image.load_img(image_path, grayscale=True, target_size=target_size)\n",
    "    img_array = image.img_to_array(img)\n",
    "    img_array = np.expand_dims(img_array, axis=0)\n",
    "    return img_array"
   ]
  },
  {
   "cell_type": "code",
   "execution_count": 3,
   "id": "21d8d2f9-c8fd-4532-80a5-92af3b04c5f5",
   "metadata": {},
   "outputs": [],
   "source": [
    "def detect_expression(image_path):\n",
    "    img_array = preprocess_image(image_path, target_size=(48, 48))\n",
    "    \n",
    "    # Normalize pixel values\n",
    "    img_array /= 250.0\n",
    "    \n",
    "    # Perform prediction\n",
    "    predictions = model.predict(img_array)\n",
    "    \n",
    "    # Convert predictions to expressions\n",
    "    expressions = ['Angry', 'Fear', 'Happy', 'Sad', 'Surprise', 'Neutral']\n",
    "    predicted_expression = expressions[np.argmax(predictions)]\n",
    "    \n",
    "    return predicted_expression"
   ]
  },
  {
   "cell_type": "code",
   "execution_count": 4,
   "id": "aa23d00a-73de-405a-8ae7-29fb7c5fef2c",
   "metadata": {},
   "outputs": [
    {
     "name": "stdout",
     "output_type": "stream",
     "text": [
      "WARNING:tensorflow:From C:\\Users\\DarkM\\miniconda3\\envs\\basic_01\\Lib\\site-packages\\keras\\src\\backend.py:1398: The name tf.executing_eagerly_outside_functions is deprecated. Please use tf.compat.v1.executing_eagerly_outside_functions instead.\n",
      "\n",
      "WARNING:tensorflow:From C:\\Users\\DarkM\\miniconda3\\envs\\basic_01\\Lib\\site-packages\\keras\\src\\layers\\normalization\\batch_normalization.py:979: The name tf.nn.fused_batch_norm is deprecated. Please use tf.compat.v1.nn.fused_batch_norm instead.\n",
      "\n"
     ]
    },
    {
     "data": {
      "image/png": "[encoded data removed]",
      "text/plain": [
       "<Figure size 640x480 with 1 Axes>"
      ]
     },
     "metadata": {},
     "output_type": "display_data"
    },
    {
     "name": "stderr",
     "output_type": "stream",
     "text": [
      "C:\\Users\\DarkM\\miniconda3\\envs\\basic_01\\Lib\\site-packages\\keras\\src\\utils\\image_utils.py:409: UserWarning: grayscale is deprecated. Please use color_mode = \"grayscale\"\n",
      "  warnings.warn(\n"
     ]
    },
    {
     "name": "stdout",
     "output_type": "stream",
     "text": [
      "1/1 [==============================] - 1s 1s/step\n",
      "Predicted Expression: Happy\n"
     ]
    }
   ],
   "source": [
    "# Example usage\n",
    "\n",
    "model = load_model(r\"C:\\Users\\DarkM\\facial_expression (5).h5\")\n",
    "\n",
    "image_path = r\"C:\\Users\\DarkM\\OneDrive\\Documents\\Stuff\\ML project\\Training_4163204.jpg\"\n",
    "img = plt.imread(image_path)\n",
    "plt.imshow(img, cmap='gray')\n",
    "plt.show()\n",
    "\n",
    "predicted_expression = detect_expression(image_path)\n",
    "print(\"Predicted Expression:\", predicted_expression)"
   ]
  },
  {
   "cell_type": "code",
   "execution_count": null,
   "id": "e46db96f-b6f4-4e26-bf67-8c3fdb2d6b3b",
   "metadata": {},
   "outputs": [],
   "source": []
  },
  {
   "cell_type": "code",
   "execution_count": null,
   "id": "e747f5f3-9399-4f76-a3fd-777883a84a84",
   "metadata": {},
   "outputs": [],
   "source": []
  },
  {
   "cell_type": "code",
   "execution_count": null,
   "id": "bb6e6900-a1eb-4481-b7b1-8314449b9a1e",
   "metadata": {},
   "outputs": [],
   "source": []
  }
 ],
 "metadata": {
  "kernelspec": {
   "display_name": "Python 3 (ipykernel)",
   "language": "python",
   "name": "python3"
  },
  "language_info": {
   "codemirror_mode": {
    "name": "ipython",
    "version": 3
   },
   "file_extension": ".py",
   "mimetype": "text/x-python",
   "name": "python",
   "nbconvert_exporter": "python",
   "pygments_lexer": "ipython3",
   "version": "3.11.7"
  }
 },
 "nbformat": 4,
 "nbformat_minor": 5
}
